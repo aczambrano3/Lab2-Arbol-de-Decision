{
 "cells": [
  {
   "cell_type": "code",
   "execution_count": 1,
   "id": "1dfa1252",
   "metadata": {},
   "outputs": [],
   "source": [
    "import pandas\n",
    "from sklearn import tree\n",
    "import pydotplus\n",
    "from sklearn.tree import DecisionTreeClassifier\n",
    "%matplotlib notebook\n",
    "import matplotlib.pyplot as plt\n",
    "import matplotlib.image as pltimg"
   ]
  },
  {
   "cell_type": "code",
   "execution_count": 3,
   "id": "501f853e",
   "metadata": {},
   "outputs": [
    {
     "name": "stdout",
     "output_type": "stream",
     "text": [
      "      mora  atraso  vivienda  edad  dias_lab  exp_sf  nivel_ahorro  ingreso  \\\n",
      "0        0     235         1    30      3748      93             5  3500.00   \n",
      "1        0      18         1    32      4598       9            12   900.00   \n",
      "2        0       0         1    26      5148       8             2  2400.00   \n",
      "3        0       0         1    36      5179      20            12  2700.00   \n",
      "4        0       0         1    46      3960       3             1  3100.00   \n",
      "...    ...     ...       ...   ...       ...     ...           ...      ...   \n",
      "3747     1       9         1    53      8282       3            12  3500.00   \n",
      "3748     1       0         1    47      5847      47            12  1388.25   \n",
      "3749     1       0         1    31      3991      10            12  2100.00   \n",
      "3750     1       2         2    28      4995       9            12  1047.29   \n",
      "3751     1      51         2    33      4935      27            12  1434.96   \n",
      "\n",
      "       linea_sf  deuda_sf  score  zona  clasif_sbs  nivel_educ  \n",
      "0     121543.40      0.00    214    15           4           3  \n",
      "1       1824.67   1933.75    175    13           1           2  \n",
      "2       2797.38    188.29    187    15           0           3  \n",
      "3     121543.40      0.00    187     2           0           2  \n",
      "4       2000.00  11010.65    189    15           0           2  \n",
      "...         ...       ...    ...   ...         ...         ...  \n",
      "3747  121543.40    957.89    215    15           0           3  \n",
      "3748   11080.33      0.50    180    15           1           2  \n",
      "3749    3570.00   8567.67    200    15           0           3  \n",
      "3750    1129.65   1937.06    194    12           0           2  \n",
      "3751    1000.00   4314.83    194    20           2           2  \n",
      "\n",
      "[3752 rows x 14 columns]\n"
     ]
    }
   ],
   "source": [
    "df = pandas.read_csv('dataset3.csv')\n",
    "print(df)"
   ]
  },
  {
   "cell_type": "code",
   "execution_count": 4,
   "id": "d2a7c4b0",
   "metadata": {},
   "outputs": [
    {
     "data": {
      "text/plain": [
       "Index(['atraso', 'vivienda', 'edad', 'dias_lab', 'exp_sf', 'nivel_ahorro',\n",
       "       'ingreso', 'linea_sf', 'deuda_sf', 'score', 'zona', 'clasif_sbs',\n",
       "       'nivel_educ'],\n",
       "      dtype='object')"
      ]
     },
     "execution_count": 4,
     "metadata": {},
     "output_type": "execute_result"
    }
   ],
   "source": [
    "X= df.drop(['mora'], axis=1 )\n",
    "X.columns"
   ]
  },
  {
   "cell_type": "code",
   "execution_count": 7,
   "id": "f7d29733",
   "metadata": {},
   "outputs": [
    {
     "data": {
      "text/plain": [
       "0       0\n",
       "1       0\n",
       "2       0\n",
       "3       0\n",
       "4       0\n",
       "       ..\n",
       "3747    1\n",
       "3748    1\n",
       "3749    1\n",
       "3750    1\n",
       "3751    1\n",
       "Name: mora, Length: 3752, dtype: int64"
      ]
     },
     "execution_count": 7,
     "metadata": {},
     "output_type": "execute_result"
    }
   ],
   "source": [
    "y = df['mora']\n",
    "y"
   ]
  },
  {
   "cell_type": "code",
   "execution_count": 6,
   "id": "0c9c0bc6",
   "metadata": {},
   "outputs": [],
   "source": []
  },
  {
   "cell_type": "code",
   "execution_count": null,
   "id": "71d08922",
   "metadata": {},
   "outputs": [],
   "source": []
  }
 ],
 "metadata": {
  "kernelspec": {
   "display_name": "Python 3 (ipykernel)",
   "language": "python",
   "name": "python3"
  },
  "language_info": {
   "codemirror_mode": {
    "name": "ipython",
    "version": 3
   },
   "file_extension": ".py",
   "mimetype": "text/x-python",
   "name": "python",
   "nbconvert_exporter": "python",
   "pygments_lexer": "ipython3",
   "version": "3.9.7"
  }
 },
 "nbformat": 4,
 "nbformat_minor": 5
}
